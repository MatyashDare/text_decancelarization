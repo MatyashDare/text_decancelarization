{
 "cells": [
  {
   "cell_type": "code",
   "execution_count": 1,
   "id": "4086321b",
   "metadata": {},
   "outputs": [],
   "source": [
    "import pandas as pd\n",
    "import numpy as np\n",
    "import os\n",
    "import torch\n",
    "import torch.nn as nn\n",
    "import torch.nn.functional as F\n",
    "import torch.optim as optim\n",
    "import torch.utils.data\n",
    "from transformers import AutoModel\n",
    "from transformers import AutoTokenizer\n",
    "from sklearn.metrics import classification_report\n",
    "from sklearn.model_selection import train_test_split\n",
    "import matplotlib.pyplot as plt\n",
    "import gc\n",
    "from tqdm.auto import tqdm, trange"
   ]
  },
  {
   "cell_type": "code",
   "execution_count": 2,
   "id": "d9e1cf9c",
   "metadata": {},
   "outputs": [],
   "source": [
    "def cleanup():\n",
    "    gc.collect()\n",
    "    torch.cuda.empty_cache()\n",
    "    \n",
    "cleanup()"
   ]
  },
  {
   "cell_type": "code",
   "execution_count": 3,
   "id": "8c85ae3c",
   "metadata": {},
   "outputs": [],
   "source": [
    "df_train = pd.read_csv('../data/train_bin.csv')\n",
    "df_test = pd.read_csv('../data/test_bin.csv')"
   ]
  },
  {
   "cell_type": "code",
   "execution_count": 4,
   "id": "f601c09f",
   "metadata": {},
   "outputs": [
    {
     "data": {
      "text/html": [
       "<div>\n",
       "<style scoped>\n",
       "    .dataframe tbody tr th:only-of-type {\n",
       "        vertical-align: middle;\n",
       "    }\n",
       "\n",
       "    .dataframe tbody tr th {\n",
       "        vertical-align: top;\n",
       "    }\n",
       "\n",
       "    .dataframe thead th {\n",
       "        text-align: right;\n",
       "    }\n",
       "</style>\n",
       "<table border=\"1\" class=\"dataframe\">\n",
       "  <thead>\n",
       "    <tr style=\"text-align: right;\">\n",
       "      <th></th>\n",
       "      <th>index</th>\n",
       "      <th>text</th>\n",
       "      <th>target</th>\n",
       "    </tr>\n",
       "  </thead>\n",
       "  <tbody>\n",
       "    <tr>\n",
       "      <th>0</th>\n",
       "      <td>6864</td>\n",
       "      <td>в период, установленный для проведения ОЭ, осу...</td>\n",
       "      <td>1</td>\n",
       "    </tr>\n",
       "    <tr>\n",
       "      <th>1</th>\n",
       "      <td>11270</td>\n",
       "      <td>О проведении опытной эксплуатации программно-а...</td>\n",
       "      <td>1</td>\n",
       "    </tr>\n",
       "  </tbody>\n",
       "</table>\n",
       "</div>"
      ],
      "text/plain": [
       "   index                                               text  target\n",
       "0   6864  в период, установленный для проведения ОЭ, осу...       1\n",
       "1  11270  О проведении опытной эксплуатации программно-а...       1"
      ]
     },
     "execution_count": 4,
     "metadata": {},
     "output_type": "execute_result"
    }
   ],
   "source": [
    "df_train.head(2)"
   ]
  },
  {
   "cell_type": "code",
   "execution_count": 5,
   "id": "fa011281",
   "metadata": {},
   "outputs": [],
   "source": [
    "df_train = df_train[(df_train['text'].isna()==False) & (df_train['text'] != 'РАСПОРЯЖЕНИЕ')]\n",
    "df_test = df_test[(df_test['text'].isna()==False) & (df_test['text'] != 'РАСПОРЯЖЕНИЕ')]\n",
    "\n",
    "df_train, _ = train_test_split(df_train, stratify=df_train['target'], test_size=0.9)\n",
    "df_test, _ = train_test_split(df_test, stratify=df_test['target'], test_size=0.9)"
   ]
  },
  {
   "cell_type": "code",
   "execution_count": 6,
   "id": "778e7276",
   "metadata": {},
   "outputs": [
    {
     "data": {
      "text/plain": [
       "(2711, 3)"
      ]
     },
     "execution_count": 6,
     "metadata": {},
     "output_type": "execute_result"
    }
   ],
   "source": [
    "df_train.shape"
   ]
  },
  {
   "cell_type": "code",
   "execution_count": 7,
   "id": "a091f894",
   "metadata": {},
   "outputs": [
    {
     "data": {
      "text/plain": [
       "(1161, 3)"
      ]
     },
     "execution_count": 7,
     "metadata": {},
     "output_type": "execute_result"
    }
   ],
   "source": [
    "df_test.shape"
   ]
  },
  {
   "cell_type": "code",
   "execution_count": 8,
   "id": "2a788a7c",
   "metadata": {},
   "outputs": [
    {
     "data": {
      "text/html": [
       "<div>\n",
       "<style scoped>\n",
       "    .dataframe tbody tr th:only-of-type {\n",
       "        vertical-align: middle;\n",
       "    }\n",
       "\n",
       "    .dataframe tbody tr th {\n",
       "        vertical-align: top;\n",
       "    }\n",
       "\n",
       "    .dataframe thead th {\n",
       "        text-align: right;\n",
       "    }\n",
       "</style>\n",
       "<table border=\"1\" class=\"dataframe\">\n",
       "  <thead>\n",
       "    <tr style=\"text-align: right;\">\n",
       "      <th></th>\n",
       "      <th>0</th>\n",
       "    </tr>\n",
       "    <tr>\n",
       "      <th>target</th>\n",
       "      <th></th>\n",
       "    </tr>\n",
       "  </thead>\n",
       "  <tbody>\n",
       "    <tr>\n",
       "      <th>1</th>\n",
       "      <td>2011</td>\n",
       "    </tr>\n",
       "    <tr>\n",
       "      <th>0</th>\n",
       "      <td>700</td>\n",
       "    </tr>\n",
       "  </tbody>\n",
       "</table>\n",
       "</div>"
      ],
      "text/plain": [
       "           0\n",
       "target      \n",
       "1       2011\n",
       "0        700"
      ]
     },
     "execution_count": 8,
     "metadata": {},
     "output_type": "execute_result"
    }
   ],
   "source": [
    "pd.DataFrame(df_train.value_counts('target'))"
   ]
  },
  {
   "cell_type": "code",
   "execution_count": 9,
   "id": "35b463d9",
   "metadata": {},
   "outputs": [
    {
     "data": {
      "text/html": [
       "<div>\n",
       "<style scoped>\n",
       "    .dataframe tbody tr th:only-of-type {\n",
       "        vertical-align: middle;\n",
       "    }\n",
       "\n",
       "    .dataframe tbody tr th {\n",
       "        vertical-align: top;\n",
       "    }\n",
       "\n",
       "    .dataframe thead th {\n",
       "        text-align: right;\n",
       "    }\n",
       "</style>\n",
       "<table border=\"1\" class=\"dataframe\">\n",
       "  <thead>\n",
       "    <tr style=\"text-align: right;\">\n",
       "      <th></th>\n",
       "      <th>0</th>\n",
       "    </tr>\n",
       "    <tr>\n",
       "      <th>target</th>\n",
       "      <th></th>\n",
       "    </tr>\n",
       "  </thead>\n",
       "  <tbody>\n",
       "    <tr>\n",
       "      <th>1</th>\n",
       "      <td>861</td>\n",
       "    </tr>\n",
       "    <tr>\n",
       "      <th>0</th>\n",
       "      <td>300</td>\n",
       "    </tr>\n",
       "  </tbody>\n",
       "</table>\n",
       "</div>"
      ],
      "text/plain": [
       "          0\n",
       "target     \n",
       "1       861\n",
       "0       300"
      ]
     },
     "execution_count": 9,
     "metadata": {},
     "output_type": "execute_result"
    }
   ],
   "source": [
    "pd.DataFrame(df_test.value_counts('target'))"
   ]
  },
  {
   "cell_type": "markdown",
   "id": "0cdf1de9",
   "metadata": {},
   "source": [
    "# Transformers experiments\n",
    "## rubert-base-cased"
   ]
  },
  {
   "cell_type": "code",
   "execution_count": 10,
   "id": "7f222f1d",
   "metadata": {},
   "outputs": [],
   "source": [
    "model_name = \"DeepPavlov_rubert-base-cased\"\n",
    "tokenizer = AutoTokenizer.from_pretrained(\"DeepPavlov/rubert-base-cased\")\n",
    "model_bert = AutoModel.from_pretrained(\"DeepPavlov/rubert-base-cased\").to(torch.device('cuda'))"
   ]
  },
  {
   "cell_type": "code",
   "execution_count": 11,
   "id": "06624814",
   "metadata": {},
   "outputs": [],
   "source": [
    "class Dataset(torch.utils.data.Dataset):\n",
    "\n",
    "    def __init__(self, tokenizer, MAX_LEN, texts, targets):\n",
    "        \n",
    "        self.tokenizer = tokenizer\n",
    "        self.texts = [torch.LongTensor(tokenizer.encode(t)[:MAX_LEN]) for t in texts]\n",
    "        self.texts = torch.nn.utils.rnn.pad_sequence(self.texts, batch_first=True,\n",
    "                                                     padding_value=self.tokenizer.pad_token_id)\n",
    "        \n",
    "        self.MAX_LEN = MAX_LEN\n",
    "        self.length = len(texts)\n",
    "        \n",
    "        self.target = torch.LongTensor(targets)\n",
    "\n",
    "    def __len__(self):\n",
    "        return self.length\n",
    "\n",
    "    def __getitem__(self, index):\n",
    "        ids = self.texts[index]\n",
    "        y = self.target[index]\n",
    "\n",
    "        return ids, y\n",
    "    \n",
    "    def preprocess(self, text):\n",
    "        tokens = text.lower().split()\n",
    "        tokens = [token.strip(punctuation) for token in tokens]\n",
    "        tokens = [token for token in tokens if token]\n",
    "        return tokens"
   ]
  },
  {
   "cell_type": "code",
   "execution_count": 12,
   "id": "4240f53d",
   "metadata": {},
   "outputs": [],
   "source": [
    "from sklearn.metrics import f1_score\n",
    "\n",
    "def train(model, iterator, optimizer, criterion, print_every=1000):\n",
    "    \n",
    "    epoch_loss = []\n",
    "    epoch_f1 = []\n",
    "    \n",
    "    model.train()  \n",
    "\n",
    "    for i, (texts, ys) in enumerate(iterator):\n",
    "        \n",
    "        optimizer.zero_grad()\n",
    "        predictions = model(texts.to(device)).squeeze()\n",
    "        loss = criterion(predictions, ys.to(device))        \n",
    "        loss.backward()\n",
    "        optimizer.step()     \n",
    "        preds = predictions.detach().to('cpu').numpy().argmax(1).tolist()\n",
    "        y_true = ys.tolist()\n",
    "        \n",
    "        epoch_loss.append(loss.item())\n",
    "        epoch_f1.append(f1_score(y_true, preds, average=\"micro\"))\n",
    "        \n",
    "        if not (i+1) % print_every:\n",
    "            print(f'Loss: {np.mean(epoch_loss)}; F1 measure: {np.mean(epoch_f1)}')\n",
    "        \n",
    "    return np.mean(epoch_f1)\n",
    "\n",
    "\n",
    "def evaluate(model, iterator, criterion):\n",
    "    \n",
    "    epoch_loss = []\n",
    "    epoch_f1 = []\n",
    "    \n",
    "    model.eval()  \n",
    "    with torch.no_grad():\n",
    "        for texts, ys in iterator:   \n",
    "            predictions = model(texts.to(device)).squeeze()\n",
    "            loss = criterion(predictions, ys.to(device))        \n",
    "            preds = predictions.detach().to('cpu').numpy().argmax(1).tolist()\n",
    "            y_true = ys.tolist()\n",
    "            epoch_loss.append(loss.item())  \n",
    "            epoch_f1.append(f1_score(y_true, preds, average=\"micro\"))\n",
    "            \n",
    "    return np.mean(epoch_f1)"
   ]
  },
  {
   "cell_type": "code",
   "execution_count": 13,
   "id": "1ea611f3",
   "metadata": {},
   "outputs": [],
   "source": [
    "MAX_LEN = 512"
   ]
  },
  {
   "cell_type": "code",
   "execution_count": 14,
   "id": "47dfbb4d",
   "metadata": {},
   "outputs": [],
   "source": [
    "train_texts = df_train['text'].values\n",
    "id2label = {i:l for i,l in enumerate(set(df_train['target']))}\n",
    "label2id = {l:i for i,l in id2label.items()}\n",
    "train_targets = [label2id[l] for l in df_train['target']]\n",
    "\n",
    "valid_texts = df_test['text'].values\n",
    "id2label = {i:l for i,l in enumerate(set(df_test['target']))}\n",
    "label2id = {l:i for i,l in id2label.items()}\n",
    "valid_targets = [label2id[l] for l in df_test['target']]"
   ]
  },
  {
   "cell_type": "code",
   "execution_count": 15,
   "id": "a89dd116",
   "metadata": {},
   "outputs": [],
   "source": [
    "training_set = Dataset(tokenizer, MAX_LEN, train_texts, train_targets)\n",
    "training_generator = torch.utils.data.DataLoader(training_set, batch_size=16, shuffle=True)\n",
    "\n",
    "valid_set = Dataset(tokenizer, MAX_LEN, valid_texts, valid_targets)\n",
    "valid_generator = torch.utils.data.DataLoader(valid_set, batch_size=16, shuffle=True)"
   ]
  },
  {
   "cell_type": "code",
   "execution_count": 16,
   "id": "92e1d0d2",
   "metadata": {},
   "outputs": [],
   "source": [
    "import torch.nn as nn\n",
    "\n",
    "class CLF(nn.Module):\n",
    "    \n",
    "    def __init__(self, pretrained_model, num_classes):\n",
    "        super().__init__()          \n",
    "        self.tokenizer = tokenizer \n",
    "        self.pretrained_model = pretrained_model\n",
    "        self.drop = nn.Dropout(0.3)\n",
    "        self.fc = nn.Linear(768, num_classes) \n",
    "        self.act = nn.LogSoftmax(1) \n",
    "        \n",
    "#         for param in self.pretrained_model.parameters():\n",
    "#             param.requires_grad = False\n",
    "            \n",
    "    def forward(self, texts):\n",
    "        \n",
    "        mask = (texts != tokenizer.pad_token_id).long()\n",
    "        \n",
    "        hidden = self.pretrained_model(texts, attention_mask=mask)[0]\n",
    "\n",
    "        dense_outputs=self.fc(self.drop(hidden[:,0] ))\n",
    "        outputs=self.act(dense_outputs)\n",
    "        \n",
    "        return outputs"
   ]
  },
  {
   "cell_type": "code",
   "execution_count": 17,
   "id": "50184991",
   "metadata": {},
   "outputs": [],
   "source": [
    "device = torch.device('cuda' if torch.cuda.is_available() else 'cpu')  \n",
    "model = CLF(model_bert, len(label2id))\n",
    "optimizer = optim.Adam(model.parameters(), lr=2e-6)\n",
    "criterion = nn.NLLLoss() \n",
    "\n",
    "model = model.to(device)\n",
    "criterion = criterion.to(device)"
   ]
  },
  {
   "cell_type": "code",
   "execution_count": 18,
   "id": "cae3e1b0",
   "metadata": {},
   "outputs": [
    {
     "name": "stdout",
     "output_type": "stream",
     "text": [
      "Epoch 1\n",
      "Train -  0.8452205882352941 Eval -  0.9957191780821918\n",
      "Epoch 2\n",
      "Train -  0.9933823529411765 Eval -  0.9965753424657534\n",
      "Epoch 3\n",
      "Train -  0.9948529411764706 Eval -  0.9965753424657534\n"
     ]
    }
   ],
   "source": [
    "f1s = []\n",
    "f1s_eval = []\n",
    "num_epochs = 3\n",
    "for i in range(num_epochs):\n",
    "    print(f'Epoch {i+1}')\n",
    "    tr = train(model, training_generator, optimizer, criterion, 2000)\n",
    "    f1s.append(tr)\n",
    "    evl = evaluate(model, valid_generator, criterion)\n",
    "    print('Train - ', tr, 'Eval - ', evl)\n",
    "    f1s_eval.append(evl)\n",
    "torch.save(model.state_dict(), f'../models/{model_name}')"
   ]
  },
  {
   "cell_type": "code",
   "execution_count": 19,
   "id": "9cd1dad5",
   "metadata": {},
   "outputs": [
    {
     "data": {
      "image/png": "[encoded data removed]",
      "text/plain": [
       "<Figure size 432x288 with 1 Axes>"
      ]
     },
     "metadata": {
      "needs_background": "light"
     },
     "output_type": "display_data"
    }
   ],
   "source": [
    "plt.plot(f1s)\n",
    "plt.plot(f1s_eval)\n",
    "plt.title('model f1 micro')\n",
    "plt.ylabel('f1')\n",
    "plt.xlabel('epoch')\n",
    "plt.legend(['train', 'val'], loc='upper left')\n",
    "plt.show()"
   ]
  },
  {
   "cell_type": "code",
   "execution_count": 20,
   "id": "4e85809f",
   "metadata": {},
   "outputs": [
    {
     "data": {
      "text/html": [
       "<div>\n",
       "<style scoped>\n",
       "    .dataframe tbody tr th:only-of-type {\n",
       "        vertical-align: middle;\n",
       "    }\n",
       "\n",
       "    .dataframe tbody tr th {\n",
       "        vertical-align: top;\n",
       "    }\n",
       "\n",
       "    .dataframe thead th {\n",
       "        text-align: right;\n",
       "    }\n",
       "</style>\n",
       "<table border=\"1\" class=\"dataframe\">\n",
       "  <thead>\n",
       "    <tr style=\"text-align: right;\">\n",
       "      <th></th>\n",
       "      <th>model</th>\n",
       "      <th>num_epochs</th>\n",
       "      <th>F1</th>\n",
       "    </tr>\n",
       "  </thead>\n",
       "  <tbody>\n",
       "    <tr>\n",
       "      <th>0</th>\n",
       "      <td>DeepPavlov/rubert-base-cased</td>\n",
       "      <td>3</td>\n",
       "      <td>0.996575</td>\n",
       "    </tr>\n",
       "  </tbody>\n",
       "</table>\n",
       "</div>"
      ],
      "text/plain": [
       "                          model  num_epochs        F1\n",
       "0  DeepPavlov/rubert-base-cased           3  0.996575"
      ]
     },
     "execution_count": 20,
     "metadata": {},
     "output_type": "execute_result"
    }
   ],
   "source": [
    "results_table = pd.DataFrame({'model': ['DeepPavlov/rubert-base-cased'],\n",
    "                              'num_epochs': [num_epochs],\n",
    "                              'F1': [f1s_eval[-1]]})\n",
    "results_table"
   ]
  },
  {
   "cell_type": "code",
   "execution_count": 21,
   "id": "0fa703d2",
   "metadata": {},
   "outputs": [],
   "source": [
    "cleanup()"
   ]
  },
  {
   "cell_type": "markdown",
   "id": "4362a3f8",
   "metadata": {},
   "source": [
    "## xlm-roberta-base"
   ]
  },
  {
   "cell_type": "code",
   "execution_count": 22,
   "id": "ba653e4a",
   "metadata": {},
   "outputs": [],
   "source": [
    "model_name = \"xlm-roberta-base\"\n",
    "tokenizer = AutoTokenizer.from_pretrained(\"xlm-roberta-base\")\n",
    "model_bert = AutoModel.from_pretrained(\"xlm-roberta-base\").to(torch.device('cuda'))"
   ]
  },
  {
   "cell_type": "code",
   "execution_count": 23,
   "id": "8b6fda04",
   "metadata": {},
   "outputs": [],
   "source": [
    "training_set = Dataset(tokenizer, MAX_LEN, train_texts, train_targets)\n",
    "training_generator = torch.utils.data.DataLoader(training_set, batch_size=16, shuffle=True)\n",
    "\n",
    "valid_set = Dataset(tokenizer, MAX_LEN, valid_texts, valid_targets)\n",
    "valid_generator = torch.utils.data.DataLoader(valid_set, batch_size=16, shuffle=True)"
   ]
  },
  {
   "cell_type": "code",
   "execution_count": 24,
   "id": "46a31ec9",
   "metadata": {},
   "outputs": [],
   "source": [
    "device = torch.device('cuda' if torch.cuda.is_available() else 'cpu')  \n",
    "model = CLF(model_bert, len(label2id))\n",
    "optimizer = optim.Adam(model.parameters(), lr=2e-6)\n",
    "criterion = nn.NLLLoss() \n",
    "\n",
    "model = model.to(device)\n",
    "criterion = criterion.to(device)"
   ]
  },
  {
   "cell_type": "code",
   "execution_count": 25,
   "id": "6d51d1d7",
   "metadata": {},
   "outputs": [
    {
     "name": "stdout",
     "output_type": "stream",
     "text": [
      "Epoch 1\n",
      "Train -  0.7495273109243697 Eval -  0.9648972602739726\n",
      "Epoch 2\n",
      "Train -  0.9492647058823529 Eval -  0.9948630136986302\n",
      "Epoch 3\n",
      "Train -  0.9851890756302522 Eval -  0.9948630136986302\n"
     ]
    }
   ],
   "source": [
    "f1s = []\n",
    "f1s_eval = []\n",
    "num_epochs = 3\n",
    "for i in range(num_epochs):\n",
    "    print(f'Epoch {i+1}')\n",
    "    tr = train(model, training_generator, optimizer, criterion, 2000)\n",
    "    f1s.append(tr)\n",
    "    evl = evaluate(model, valid_generator, criterion)\n",
    "    print('Train - ', tr, 'Eval - ', evl)\n",
    "    f1s_eval.append(evl)\n",
    "torch.save(model.state_dict(), f'../models/{model_name}')"
   ]
  },
  {
   "cell_type": "code",
   "execution_count": 26,
   "id": "8b4ae9da",
   "metadata": {},
   "outputs": [
    {
     "data": {
      "image/png": "[encoded data removed]",
      "text/plain": [
       "<Figure size 432x288 with 1 Axes>"
      ]
     },
     "metadata": {
      "needs_background": "light"
     },
     "output_type": "display_data"
    }
   ],
   "source": [
    "plt.plot(f1s)\n",
    "plt.plot(f1s_eval)\n",
    "plt.title('model f1 micro')\n",
    "plt.ylabel('f1')\n",
    "plt.xlabel('epoch')\n",
    "plt.legend(['train', 'val'], loc='upper left')\n",
    "plt.show()"
   ]
  },
  {
   "cell_type": "code",
   "execution_count": 27,
   "id": "b8a0daaa",
   "metadata": {},
   "outputs": [
    {
     "data": {
      "text/html": [
       "<div>\n",
       "<style scoped>\n",
       "    .dataframe tbody tr th:only-of-type {\n",
       "        vertical-align: middle;\n",
       "    }\n",
       "\n",
       "    .dataframe tbody tr th {\n",
       "        vertical-align: top;\n",
       "    }\n",
       "\n",
       "    .dataframe thead th {\n",
       "        text-align: right;\n",
       "    }\n",
       "</style>\n",
       "<table border=\"1\" class=\"dataframe\">\n",
       "  <thead>\n",
       "    <tr style=\"text-align: right;\">\n",
       "      <th></th>\n",
       "      <th>model</th>\n",
       "      <th>num_epochs</th>\n",
       "      <th>F1</th>\n",
       "    </tr>\n",
       "  </thead>\n",
       "  <tbody>\n",
       "    <tr>\n",
       "      <th>0</th>\n",
       "      <td>DeepPavlov/rubert-base-cased</td>\n",
       "      <td>3</td>\n",
       "      <td>0.996575</td>\n",
       "    </tr>\n",
       "    <tr>\n",
       "      <th>1</th>\n",
       "      <td>xlm-roberta-base</td>\n",
       "      <td>3</td>\n",
       "      <td>0.9948630136986302</td>\n",
       "    </tr>\n",
       "  </tbody>\n",
       "</table>\n",
       "</div>"
      ],
      "text/plain": [
       "                          model num_epochs                  F1\n",
       "0  DeepPavlov/rubert-base-cased          3            0.996575\n",
       "1              xlm-roberta-base          3  0.9948630136986302"
      ]
     },
     "execution_count": 27,
     "metadata": {},
     "output_type": "execute_result"
    }
   ],
   "source": [
    "results_table.loc[results_table.shape[0]] = ['xlm-roberta-base', str(num_epochs), str(f1s_eval[-1])]\n",
    "results_table"
   ]
  },
  {
   "cell_type": "code",
   "execution_count": 28,
   "id": "b82060ae",
   "metadata": {},
   "outputs": [],
   "source": [
    "cleanup()"
   ]
  },
  {
   "cell_type": "markdown",
   "id": "edb566ba",
   "metadata": {},
   "source": [
    "## bert-base-multilingual-cased"
   ]
  },
  {
   "cell_type": "code",
   "execution_count": 29,
   "id": "456dbc22",
   "metadata": {},
   "outputs": [],
   "source": [
    "model_name = \"bert-base-multilingual-cased\"\n",
    "tokenizer = AutoTokenizer.from_pretrained(\"bert-base-multilingual-cased\")\n",
    "model_bert = AutoModel.from_pretrained(\"bert-base-multilingual-cased\").to(torch.device('cuda'))"
   ]
  },
  {
   "cell_type": "code",
   "execution_count": 30,
   "id": "6ca3ef18",
   "metadata": {},
   "outputs": [],
   "source": [
    "training_set = Dataset(tokenizer, MAX_LEN, train_texts, train_targets)\n",
    "training_generator = torch.utils.data.DataLoader(training_set, batch_size=16, shuffle=True)\n",
    "\n",
    "valid_set = Dataset(tokenizer, MAX_LEN, valid_texts, valid_targets)\n",
    "valid_generator = torch.utils.data.DataLoader(valid_set, batch_size=16, shuffle=True)"
   ]
  },
  {
   "cell_type": "code",
   "execution_count": 31,
   "id": "761d5eb2",
   "metadata": {},
   "outputs": [],
   "source": [
    "device = torch.device('cuda' if torch.cuda.is_available() else 'cpu')  \n",
    "model = CLF(model_bert, len(label2id))\n",
    "optimizer = optim.Adam(model.parameters(), lr=2e-6)\n",
    "criterion = nn.NLLLoss() \n",
    "\n",
    "model = model.to(device)\n",
    "criterion = criterion.to(device)"
   ]
  },
  {
   "cell_type": "code",
   "execution_count": 32,
   "id": "a89108ab",
   "metadata": {},
   "outputs": [
    {
     "name": "stdout",
     "output_type": "stream",
     "text": [
      "Epoch 1\n",
      "Train -  0.8878676470588235 Eval -  0.9914383561643836\n",
      "Epoch 2\n",
      "Train -  0.9900735294117647 Eval -  0.9922945205479452\n",
      "Epoch 3\n",
      "Train -  0.9955882352941177 Eval -  0.997431506849315\n"
     ]
    }
   ],
   "source": [
    "f1s = []\n",
    "f1s_eval = []\n",
    "num_epochs = 3\n",
    "for i in range(num_epochs):\n",
    "    print(f'Epoch {i+1}')\n",
    "    tr = train(model, training_generator, optimizer, criterion, 2000)\n",
    "    f1s.append(tr)\n",
    "    evl = evaluate(model, valid_generator, criterion)\n",
    "    print('Train - ', tr, 'Eval - ', evl)\n",
    "    f1s_eval.append(evl)\n",
    "torch.save(model.state_dict(), f'../models/{model_name}')"
   ]
  },
  {
   "cell_type": "code",
   "execution_count": 33,
   "id": "22d68f1b",
   "metadata": {},
   "outputs": [
    {
     "data": {
      "image/png": "[encoded data removed]",
      "text/plain": [
       "<Figure size 432x288 with 1 Axes>"
      ]
     },
     "metadata": {
      "needs_background": "light"
     },
     "output_type": "display_data"
    }
   ],
   "source": [
    "plt.plot(f1s)\n",
    "plt.plot(f1s_eval)\n",
    "plt.title('model f1 micro')\n",
    "plt.ylabel('f1')\n",
    "plt.xlabel('epoch')\n",
    "plt.legend(['train', 'val'], loc='upper left')\n",
    "plt.show()"
   ]
  },
  {
   "cell_type": "code",
   "execution_count": 34,
   "id": "f8ded15a",
   "metadata": {},
   "outputs": [
    {
     "data": {
      "text/html": [
       "<div>\n",
       "<style scoped>\n",
       "    .dataframe tbody tr th:only-of-type {\n",
       "        vertical-align: middle;\n",
       "    }\n",
       "\n",
       "    .dataframe tbody tr th {\n",
       "        vertical-align: top;\n",
       "    }\n",
       "\n",
       "    .dataframe thead th {\n",
       "        text-align: right;\n",
       "    }\n",
       "</style>\n",
       "<table border=\"1\" class=\"dataframe\">\n",
       "  <thead>\n",
       "    <tr style=\"text-align: right;\">\n",
       "      <th></th>\n",
       "      <th>model</th>\n",
       "      <th>num_epochs</th>\n",
       "      <th>F1</th>\n",
       "    </tr>\n",
       "  </thead>\n",
       "  <tbody>\n",
       "    <tr>\n",
       "      <th>0</th>\n",
       "      <td>DeepPavlov/rubert-base-cased</td>\n",
       "      <td>3</td>\n",
       "      <td>0.996575</td>\n",
       "    </tr>\n",
       "    <tr>\n",
       "      <th>1</th>\n",
       "      <td>xlm-roberta-base</td>\n",
       "      <td>3</td>\n",
       "      <td>0.9948630136986302</td>\n",
       "    </tr>\n",
       "    <tr>\n",
       "      <th>2</th>\n",
       "      <td>bert-base-multilingual-cased</td>\n",
       "      <td>3</td>\n",
       "      <td>0.997431506849315</td>\n",
       "    </tr>\n",
       "  </tbody>\n",
       "</table>\n",
       "</div>"
      ],
      "text/plain": [
       "                          model num_epochs                  F1\n",
       "0  DeepPavlov/rubert-base-cased          3            0.996575\n",
       "1              xlm-roberta-base          3  0.9948630136986302\n",
       "2  bert-base-multilingual-cased          3   0.997431506849315"
      ]
     },
     "execution_count": 34,
     "metadata": {},
     "output_type": "execute_result"
    }
   ],
   "source": [
    "results_table.loc[results_table.shape[0]] = ['bert-base-multilingual-cased', str(num_epochs), str(f1s_eval[-1])]\n",
    "results_table"
   ]
  },
  {
   "cell_type": "code",
   "execution_count": 35,
   "id": "5be31f94",
   "metadata": {},
   "outputs": [],
   "source": [
    "cleanup()"
   ]
  },
  {
   "cell_type": "markdown",
   "id": "cd0aa855",
   "metadata": {},
   "source": [
    "# Linear Models"
   ]
  },
  {
   "cell_type": "code",
   "execution_count": 36,
   "id": "5cf926dd",
   "metadata": {},
   "outputs": [],
   "source": [
    "import pandas as pd\n",
    "import numpy as np\n",
    " \n",
    "from collections import Counter\n",
    "import re\n",
    " \n",
    "import pymorphy2\n",
    "import matplotlib.pyplot as plt\n",
    "from sklearn.model_selection import train_test_split\n",
    " \n",
    "from sklearn.pipeline import Pipeline\n",
    "from sklearn.naive_bayes import MultinomialNB\n",
    "from sklearn.feature_extraction.text import TfidfVectorizer\n",
    "from sklearn.ensemble import RandomForestClassifier\n",
    "from sklearn.linear_model import LogisticRegression, PassiveAggressiveClassifier\n",
    "from sklearn.model_selection import GridSearchCV\n",
    "from sklearn.metrics import classification_report\n",
    "from sklearn.model_selection import StratifiedKFold\n",
    "from sklearn.metrics import f1_score, classification_report\n",
    "import statistics\n",
    "import seaborn as sn\n",
    "import matplotlib.pyplot  as plt\n",
    "from sklearn.metrics import classification_report, confusion_matrix, accuracy_score\n",
    " \n",
    "from time import time\n",
    " \n",
    "import joblib\n",
    "import json\n",
    "import warnings\n",
    "warnings.filterwarnings('ignore')"
   ]
  },
  {
   "cell_type": "code",
   "execution_count": 37,
   "id": "65d92928",
   "metadata": {},
   "outputs": [
    {
     "name": "stdout",
     "output_type": "stream",
     "text": [
      "['привет', 'как', 'дела']\n",
      "['привет ', 'как', 'дела']\n",
      "made unique tokens set\n",
      "made tokens-lemmas dict\n"
     ]
    }
   ],
   "source": [
    "CLS_ALGORITHM_list = ['PassiveAggressiveClassifier','LogisticRegression', 'MultinomialNB', 'RandomForestClassifier']\n",
    " \n",
    "text_column = 'text' \n",
    "df_train = df_train[['text', 'target']]\n",
    "df_test = df_test[['text', 'target']]\n",
    "df = pd.concat([df_train, df_test])\n",
    "df = df[df['target'].isna()==False]\n",
    "df = df[df['text'].isna()==False].reset_index()\n",
    "\n",
    "def bt(token_pattern=r'(?u)\\b\\w\\w+\\b'):\n",
    "    return re.compile(token_pattern).findall\n",
    "tokenizer=bt()\n",
    "print(tokenizer('привет как дела?'))\n",
    " \n",
    "def tokenize_line(line):\n",
    "    return [re.sub('_', ' ', str(w).lower()) for w in tokenizer(str(line))]\n",
    "print(tokenize_line('привет_ как дела?'))\n",
    " \n",
    "\n",
    "df['tokens'] = df[text_column].apply(lambda x : tokenize_line(x))\n",
    " \n",
    "class Lemmatizer:\n",
    "    def __init__(self):\n",
    "        self.morph = pymorphy2.MorphAnalyzer()\n",
    "       \n",
    "    def __call__(self, x: str) -> str:\n",
    "        lemma = self.morph.parse(x)[0].normal_form\n",
    "        return lemma\n",
    "     \n",
    "lemmatizer = Lemmatizer()\n",
    " \n",
    " \n",
    "def lemmatize_df(df, text_column):\n",
    "    unique_toks = set([])\n",
    "    for line in df[text_column]:\n",
    "        for w in line:\n",
    "            if w not in unique_toks:\n",
    "                unique_toks.add(w)\n",
    "    print('made unique tokens set')\n",
    "    t_l = {}\n",
    "    for ut in unique_toks:\n",
    "        t_l[ut] = lemmatizer(ut)\n",
    "    print('made tokens-lemmas dict')\n",
    "    return unique_toks, t_l\n",
    " \n",
    "unique_toks, t_l = lemmatize_df(df, 'tokens')\n",
    " \n",
    "def lemmatize_line(t_l, line):\n",
    "    return ' '.join([t_l[w] for w in line])\n",
    " \n",
    "df['lemmas'] = df['tokens'].apply(lambda x: lemmatize_line(t_l, x))\n",
    " \n",
    " \n",
    "def visualize(y_true, y_pred, df, target_column, new_path):\n",
    "    plt.figure(figsize=(14,10))\n",
    "    array=confusion_matrix(y_true, y_pred)\n",
    "    a = [sorted(df[target_column].unique())]\n",
    "    df_cm = pd.DataFrame(array, index=a, columns=a)\n",
    "    sn.set(font_scale=1.2)\n",
    "    sn.heatmap(df_cm, annot=True, annot_kws={'size':9}, cmap='Blues',fmt='g')\n",
    "    plt.xticks(rotation=60)\n",
    "    plt.xlabel('Предсказанный класс')\n",
    "    plt.ylabel('Реальный класс')\n",
    "    plt.savefig(new_path + '_'+ 'image.png')\n",
    "    plt.show()\n",
    "\n",
    "def examples(df, text_column, target_column, num_ex, orig_column):\n",
    "    for cl in df[target_column].unique():\n",
    "        print(f'-----{cl.upper()}----\\n')\n",
    "        for i, cl2 in enumerate(df[target_column].unique()):\n",
    "            if cl != cl2:\n",
    "                sl = list(df[(df[target_column] == cl) & (df['pred_column'] == cl2)][orig_column].unique())\n",
    "                ex = '\\n-'.join(sl[:num_ex])\n",
    "                print(f\"{i}) {cl} --> {cl2}: \\n{ex}\")\n",
    "        print('\\n\\n')\n",
    "\n",
    "def main(path, df, text_column, target_column,\n",
    "         report=True, visualization=True,\n",
    "         show_examples=True, num_ex=10, orig_column='same'):\n",
    "   \n",
    "    vars = []\n",
    "    all_f1s = {}\n",
    "    for CLS_ALGORITHM in CLS_ALGORITHM_list:\n",
    "        path_save = path + '/' + CLS_ALGORITHM\n",
    "        print(CLS_ALGORITHM, path_save)\n",
    "        df_toans = cls_alg(CLS_ALGORITHM, df, text_column, target_column, path_save, er=True)\n",
    "        if text_column!='lemmas' and text_column!='tokens':\n",
    "            txt_col = 'orig'\n",
    "        else:\n",
    "            txt_col = text_column\n",
    "        df_ans = df_toans\n",
    "        \n",
    "        ext = 'xlsx'\n",
    "        \n",
    "        new_path = path + '/' +f'annotated_{txt_col}_{CLS_ALGORITHM}.' + ext\n",
    "        \n",
    "        if ext == 'csv':\n",
    "            df_ans.to_csv(new_path)\n",
    "        else:\n",
    "            df_ans.to_excel(new_path)\n",
    "        print(f'new file is saved in {new_path}: \\n predicted values are in \"pred_column\"')\n",
    "        print('\\n Final f-core on the whole dataset: \\n')\n",
    "        if report:\n",
    "            print(classification_report(df_ans[target_column], df_ans['pred_column']))\n",
    "        if visualization:\n",
    "            print('\\n  Visualization of classification')\n",
    "            print(visualize(df_ans[target_column], df_ans['pred_column'], df_ans, target_column, new_path))\n",
    "        if show_examples:\n",
    "            if orig_column=='same':\n",
    "                orig_column = text_column\n",
    "            examples(df, text_column, target_column, num_ex, orig_column)\n",
    "        vars.append(df_ans)\n",
    "\n",
    "        f1s = f1_score(df_ans[target_column], df_ans['pred_column'])\n",
    "        all_f1s[CLS_ALGORITHM] = f1s\n",
    "        print(f1s)\n",
    "    return pd.concat(vars), all_f1s\n",
    " \n",
    "def cls_alg(CLS_ALGORITHM, df, text, target, path_save, er=True):\n",
    "  \n",
    "    skf = StratifiedKFold(n_splits=3, random_state=10, shuffle=True)\n",
    "    indexes = []\n",
    "    preds= []\n",
    "    ys = []\n",
    " \n",
    "    metrics = []\n",
    "    d = {}\n",
    "    X = df[text]\n",
    "    y = df[target]\n",
    "    if er:\n",
    "        for train_index, test_index in skf.split(X, y):\n",
    "            X_train, X_test = X[train_index], X[test_index]\n",
    "            y_train, y_test = y[train_index], y[test_index]\n",
    "            y_test, predicted = text_cls(CLS_ALGORITHM, X_train,  y_train, X_test, y_test, path_save)\n",
    "            preds.extend(predicted)\n",
    "            ys.extend(y_test)\n",
    "            metrics.append(f1_score(y_test, predicted, average='weighted'))\n",
    "            for i,t in enumerate(y_test):\n",
    "                d[t] = preds[i]\n",
    "            indexes.extend(test_index)\n",
    " \n",
    "        pred_column = ['-1'] * df.shape[0]\n",
    "       \n",
    "        for i, idx in enumerate(indexes):\n",
    "            pred_column[idx] = preds[i]\n",
    "        df['pred_column'] = pred_column\n",
    "       \n",
    "        \n",
    "    print('List of possible Weighted F1:', metrics)\n",
    "    print('\\nMaximum Weighted F1 That can be obtained from this model is:',\n",
    "              round(max(metrics)*100, 2), '%')\n",
    "    print('\\nMinimum Weighted F1:',\n",
    "              round(min(metrics)*100, 2), '%')\n",
    "    print('\\nOverall Weighted F1:',\n",
    "              round(np.mean(metrics)*100, 2), '%')\n",
    "    print('\\nStandard Deviation is:', statistics.stdev(metrics))\n",
    "    df = df.drop(columns=['tokens', 'lemmas'])\n",
    "   \n",
    "    \n",
    "    return df\n",
    " \n",
    " \n",
    "def text_cls(CLS_ALGORITHM,X_train,  y_train, X_test, y_test, path_save):\n",
    "    print(f\"-----{CLS_ALGORITHM}-----\")\n",
    "    if CLS_ALGORITHM == 'LogisticRegression':\n",
    "        nb =  Pipeline([('vectorizer', TfidfVectorizer(use_idf=True,\n",
    "                                                 smooth_idf=True,\n",
    "                                                 sublinear_tf=True)),\n",
    "                ('clf', LogisticRegression())])\n",
    "        parameters_nb = {'vectorizer__ngram_range': [(1, 2), (2,2)],\n",
    "                         'clf__penalty': ( \"l1\", \"l2\"),\n",
    "                         'clf__C': (1.5, 1, 0.5),\n",
    "                         'clf__class_weight': ['balanced']}\n",
    " \n",
    "    elif CLS_ALGORITHM == 'MultinomialNB':\n",
    "        nb = Pipeline([('vectorizer', TfidfVectorizer(use_idf=True,\n",
    "                                                 smooth_idf=True,\n",
    "                                                 sublinear_tf=True)),\n",
    "                ('clf',MultinomialNB())])\n",
    "        parameters_nb = {'vectorizer__ngram_range': [(1, 2), (2,2)],\n",
    "               'clf__alpha': ( 0.01, 0.001)}\n",
    "    elif CLS_ALGORITHM == 'RandomForestClassifier':  \n",
    "        nb = Pipeline([('vectorizer', TfidfVectorizer(use_idf=True,\n",
    "                                                 smooth_idf=True,\n",
    "                                                 sublinear_tf=True)),\n",
    "                ('clf', RandomForestClassifier())])\n",
    " \n",
    " \n",
    "        parameters_nb = {'vectorizer__ngram_range': [(1, 1), (1, 2), (2,2)],\n",
    "               'clf__class_weight': (\"balanced\", \"balances_subsample\")}\n",
    "    elif CLS_ALGORITHM == 'PassiveAggressiveClassifier':\n",
    "        nb = Pipeline([('vectorizer', TfidfVectorizer(use_idf=True,\n",
    "                                                     smooth_idf=True,\n",
    "                                                     sublinear_tf=True)),\n",
    "                      ('clf', PassiveAggressiveClassifier())])\n",
    "        parameters_nb = {'vectorizer__ngram_range': [(1, 1), (1, 2), (2,2)],\n",
    "                        'clf__max_iter': (100, 500, 1000)}\n",
    "             \n",
    "    gs_clf_nb = GridSearchCV(nb, parameters_nb, n_jobs=-1, scoring = \"f1_weighted\")\n",
    " \n",
    "   \n",
    "    gs_clf_nb = gs_clf_nb.fit(X_train.to_list(), y_train.to_list())\n",
    "    print('best score --- ', gs_clf_nb.best_score_)\n",
    "    print('best parameters --- ', gs_clf_nb.best_params_)\n",
    "    r = gs_clf_nb.best_estimator_\n",
    "    predicted = r.predict(X_test.to_list())\n",
    "    joblib.dump(r, f'{path_save}_{CLS_ALGORITHM}.pkl')\n",
    "    return y_test, predicted"
   ]
  },
  {
   "cell_type": "code",
   "execution_count": 38,
   "id": "c674fadd",
   "metadata": {},
   "outputs": [
    {
     "name": "stdout",
     "output_type": "stream",
     "text": [
      "PassiveAggressiveClassifier ../results/PassiveAggressiveClassifier\n",
      "-----PassiveAggressiveClassifier-----\n",
      "huggingface/tokenizers: The current process just got forked, after parallelism has already been used. Disabling parallelism to avoid deadlocks...\n",
      "To disable this warning, you can either:\n",
      "\t- Avoid using `tokenizers` before the fork if possible\n",
      "\t- Explicitly set the environment variable TOKENIZERS_PARALLELISM=(true | false)\n",
      "huggingface/tokenizers: The current process just got forked, after parallelism has already been used. Disabling parallelism to avoid deadlocks...\n",
      "To disable this warning, you can either:\n",
      "\t- Avoid using `tokenizers` before the fork if possible\n",
      "\t- Explicitly set the environment variable TOKENIZERS_PARALLELISM=(true | false)\n",
      "huggingface/tokenizers: The current process just got forked, after parallelism has already been used. Disabling parallelism to avoid deadlocks...\n",
      "To disable this warning, you can either:\n",
      "\t- Avoid using `tokenizers` before the fork if possible\n",
      "\t- Explicitly set the environment variable TOKENIZERS_PARALLELISM=(true | false)\n",
      "huggingface/tokenizers: The current process just got forked, after parallelism has already been used. Disabling parallelism to avoid deadlocks...\n",
      "To disable this warning, you can either:\n",
      "\t- Avoid using `tokenizers` before the fork if possible\n",
      "\t- Explicitly set the environment variable TOKENIZERS_PARALLELISM=(true | false)\n",
      "best score ---  0.9753064890761559\n",
      "best parameters ---  {'clf__max_iter': 100, 'vectorizer__ngram_range': (1, 2)}\n",
      "-----PassiveAggressiveClassifier-----\n",
      "best score ---  0.9783491913791238\n",
      "best parameters ---  {'clf__max_iter': 500, 'vectorizer__ngram_range': (1, 2)}\n",
      "-----PassiveAggressiveClassifier-----\n",
      "best score ---  0.9749033915507092\n",
      "best parameters ---  {'clf__max_iter': 1000, 'vectorizer__ngram_range': (1, 2)}\n",
      "List of possible Weighted F1: [0.9790961443792638, 0.9784548302652644, 0.9737196330192162]\n",
      "\n",
      "Maximum Weighted F1 That can be obtained from this model is: 97.91 %\n",
      "\n",
      "Minimum Weighted F1: 97.37 %\n",
      "\n",
      "Overall Weighted F1: 97.71 %\n",
      "\n",
      "Standard Deviation is: 0.0029365583925325257\n",
      "new file is saved in ../results/annotated_lemmas_PassiveAggressiveClassifier.xlsx: \n",
      " predicted values are in \"pred_column\"\n",
      "\n",
      " Final f-core on the whole dataset: \n",
      "\n",
      "              precision    recall  f1-score   support\n",
      "\n",
      "           0       0.95      0.97      0.96      1000\n",
      "           1       0.99      0.98      0.98      2872\n",
      "\n",
      "    accuracy                           0.98      3872\n",
      "   macro avg       0.97      0.97      0.97      3872\n",
      "weighted avg       0.98      0.98      0.98      3872\n",
      "\n",
      "\n",
      "  Visualization of classification\n"
     ]
    },
    {
     "data": {
      "image/png": "[encoded data removed]",
      "text/plain": [
       "<Figure size 1008x720 with 2 Axes>"
      ]
     },
     "metadata": {
      "needs_background": "light"
     },
     "output_type": "display_data"
    },
    {
     "name": "stdout",
     "output_type": "stream",
     "text": [
      "None\n",
      "0.9844487157085444\n",
      "LogisticRegression ../results/LogisticRegression\n",
      "-----LogisticRegression-----\n",
      "best score ---  0.9661704669771766\n",
      "best parameters ---  {'clf__C': 1.5, 'clf__class_weight': 'balanced', 'clf__penalty': 'l2', 'vectorizer__ngram_range': (1, 2)}\n",
      "-----LogisticRegression-----\n",
      "best score ---  0.966087104703617\n",
      "best parameters ---  {'clf__C': 1.5, 'clf__class_weight': 'balanced', 'clf__penalty': 'l2', 'vectorizer__ngram_range': (1, 2)}\n",
      "-----LogisticRegression-----\n",
      "best score ---  0.9641367995138953\n",
      "best parameters ---  {'clf__C': 1.5, 'clf__class_weight': 'balanced', 'clf__penalty': 'l2', 'vectorizer__ngram_range': (1, 2)}\n",
      "List of possible Weighted F1: [0.9761992768623663, 0.961360564288558, 0.966547080017726]\n",
      "\n",
      "Maximum Weighted F1 That can be obtained from this model is: 97.62 %\n",
      "\n",
      "Minimum Weighted F1: 96.14 %\n",
      "\n",
      "Overall Weighted F1: 96.8 %\n",
      "\n",
      "Standard Deviation is: 0.007530518355163073\n",
      "new file is saved in ../results/annotated_lemmas_LogisticRegression.xlsx: \n",
      " predicted values are in \"pred_column\"\n",
      "\n",
      " Final f-core on the whole dataset: \n",
      "\n",
      "              precision    recall  f1-score   support\n",
      "\n",
      "           0       0.89      0.99      0.94      1000\n",
      "           1       1.00      0.96      0.98      2872\n",
      "\n",
      "    accuracy                           0.97      3872\n",
      "   macro avg       0.95      0.98      0.96      3872\n",
      "weighted avg       0.97      0.97      0.97      3872\n",
      "\n",
      "\n",
      "  Visualization of classification\n"
     ]
    },
    {
     "data": {
      "image/png": "[encoded data removed]",
      "text/plain": [
       "<Figure size 1008x720 with 2 Axes>"
      ]
     },
     "metadata": {},
     "output_type": "display_data"
    },
    {
     "name": "stdout",
     "output_type": "stream",
     "text": [
      "None\n",
      "0.977619893428064\n",
      "MultinomialNB ../results/MultinomialNB\n",
      "-----MultinomialNB-----\n",
      "best score ---  0.9847765621957258\n",
      "best parameters ---  {'clf__alpha': 0.01, 'vectorizer__ngram_range': (1, 2)}\n",
      "-----MultinomialNB-----\n",
      "best score ---  0.9820338239964205\n",
      "best parameters ---  {'clf__alpha': 0.01, 'vectorizer__ngram_range': (1, 2)}\n",
      "-----MultinomialNB-----\n",
      "best score ---  0.9823614924115113\n",
      "best parameters ---  {'clf__alpha': 0.01, 'vectorizer__ngram_range': (1, 2)}\n",
      "List of possible Weighted F1: [0.9820490001408302, 0.9851858216143143, 0.9844021853158279]\n",
      "\n",
      "Maximum Weighted F1 That can be obtained from this model is: 98.52 %\n",
      "\n",
      "Minimum Weighted F1: 98.2 %\n",
      "\n",
      "Overall Weighted F1: 98.39 %\n",
      "\n",
      "Standard Deviation is: 0.001632544806564578\n",
      "new file is saved in ../results/annotated_lemmas_MultinomialNB.xlsx: \n",
      " predicted values are in \"pred_column\"\n",
      "\n",
      " Final f-core on the whole dataset: \n",
      "\n",
      "              precision    recall  f1-score   support\n",
      "\n",
      "           0       0.99      0.95      0.97      1000\n",
      "           1       0.98      1.00      0.99      2872\n",
      "\n",
      "    accuracy                           0.98      3872\n",
      "   macro avg       0.99      0.97      0.98      3872\n",
      "weighted avg       0.98      0.98      0.98      3872\n",
      "\n",
      "\n",
      "  Visualization of classification\n"
     ]
    },
    {
     "data": {
      "image/png": "[encoded data removed]",
      "text/plain": [
       "<Figure size 1008x720 with 2 Axes>"
      ]
     },
     "metadata": {},
     "output_type": "display_data"
    },
    {
     "name": "stdout",
     "output_type": "stream",
     "text": [
      "None\n",
      "0.989280774550484\n",
      "RandomForestClassifier ../results/RandomForestClassifier\n",
      "-----RandomForestClassifier-----\n",
      "best score ---  0.9415475035102894\n",
      "best parameters ---  {'clf__class_weight': 'balanced', 'vectorizer__ngram_range': (1, 1)}\n",
      "-----RandomForestClassifier-----\n",
      "best score ---  0.9363737122074266\n",
      "best parameters ---  {'clf__class_weight': 'balanced', 'vectorizer__ngram_range': (1, 1)}\n",
      "-----RandomForestClassifier-----\n",
      "best score ---  0.938653729926757\n",
      "best parameters ---  {'clf__class_weight': 'balanced', 'vectorizer__ngram_range': (1, 1)}\n",
      "List of possible Weighted F1: [0.9421767958217987, 0.9492290486073459, 0.9449199357207576]\n",
      "\n",
      "Maximum Weighted F1 That can be obtained from this model is: 94.92 %\n",
      "\n",
      "Minimum Weighted F1: 94.22 %\n",
      "\n",
      "Overall Weighted F1: 94.54 %\n",
      "\n",
      "Standard Deviation is: 0.003554985694436295\n",
      "new file is saved in ../results/annotated_lemmas_RandomForestClassifier.xlsx: \n",
      " predicted values are in \"pred_column\"\n",
      "\n",
      " Final f-core on the whole dataset: \n",
      "\n",
      "              precision    recall  f1-score   support\n",
      "\n",
      "           0       0.97      0.82      0.89      1000\n",
      "           1       0.94      0.99      0.97      2872\n",
      "\n",
      "    accuracy                           0.95      3872\n",
      "   macro avg       0.96      0.90      0.93      3872\n",
      "weighted avg       0.95      0.95      0.95      3872\n",
      "\n",
      "\n",
      "  Visualization of classification\n"
     ]
    },
    {
     "data": {
      "image/png": "[encoded data removed]",
      "text/plain": [
       "<Figure size 1008x720 with 2 Axes>"
      ]
     },
     "metadata": {},
     "output_type": "display_data"
    },
    {
     "name": "stdout",
     "output_type": "stream",
     "text": [
      "None\n",
      "0.9652836579170195\n"
     ]
    }
   ],
   "source": [
    "path = '../results'\n",
    "new_df, f1s = main(path, df=df, text_column='lemmas', target_column='target',\n",
    "         report=True, visualization=True,\n",
    "         show_examples=False, num_ex=10, orig_column='same')"
   ]
  },
  {
   "cell_type": "code",
   "execution_count": 39,
   "id": "0e119f87",
   "metadata": {},
   "outputs": [
    {
     "data": {
      "text/html": [
       "<div>\n",
       "<style scoped>\n",
       "    .dataframe tbody tr th:only-of-type {\n",
       "        vertical-align: middle;\n",
       "    }\n",
       "\n",
       "    .dataframe tbody tr th {\n",
       "        vertical-align: top;\n",
       "    }\n",
       "\n",
       "    .dataframe thead th {\n",
       "        text-align: right;\n",
       "    }\n",
       "</style>\n",
       "<table border=\"1\" class=\"dataframe\">\n",
       "  <thead>\n",
       "    <tr style=\"text-align: right;\">\n",
       "      <th></th>\n",
       "      <th>model</th>\n",
       "      <th>F1 score</th>\n",
       "    </tr>\n",
       "  </thead>\n",
       "  <tbody>\n",
       "    <tr>\n",
       "      <th>0</th>\n",
       "      <td>PassiveAggressiveClassifier</td>\n",
       "      <td>0.984449</td>\n",
       "    </tr>\n",
       "    <tr>\n",
       "      <th>1</th>\n",
       "      <td>LogisticRegression</td>\n",
       "      <td>0.977620</td>\n",
       "    </tr>\n",
       "    <tr>\n",
       "      <th>2</th>\n",
       "      <td>MultinomialNB</td>\n",
       "      <td>0.989281</td>\n",
       "    </tr>\n",
       "    <tr>\n",
       "      <th>3</th>\n",
       "      <td>RandomForestClassifier</td>\n",
       "      <td>0.965284</td>\n",
       "    </tr>\n",
       "  </tbody>\n",
       "</table>\n",
       "</div>"
      ],
      "text/plain": [
       "                         model  F1 score\n",
       "0  PassiveAggressiveClassifier  0.984449\n",
       "1           LogisticRegression  0.977620\n",
       "2                MultinomialNB  0.989281\n",
       "3       RandomForestClassifier  0.965284"
      ]
     },
     "execution_count": 39,
     "metadata": {},
     "output_type": "execute_result"
    }
   ],
   "source": [
    "pd.DataFrame({'model': list(f1s.keys()), 'F1 score': [f1s[k] for k in list(f1s.keys())]})"
   ]
  },
  {
   "cell_type": "code",
   "execution_count": 40,
   "id": "584c3b1d",
   "metadata": {},
   "outputs": [
    {
     "name": "stdout",
     "output_type": "stream",
     "text": [
      "best score ---  0.9737718865638187\n",
      "best parameters ---  {'clf__alpha': 0.01, 'vectorizer__ngram_range': (1, 2)}\n",
      "              precision    recall  f1-score   support\n",
      "\n",
      "           0       0.97      0.93      0.95       300\n",
      "           1       0.98      0.99      0.98       861\n",
      "\n",
      "    accuracy                           0.98      1161\n",
      "   macro avg       0.97      0.96      0.97      1161\n",
      "weighted avg       0.97      0.98      0.97      1161\n",
      "\n"
     ]
    },
    {
     "data": {
      "text/plain": [
       "['../results/MultinomialNB.pkl']"
      ]
     },
     "execution_count": 40,
     "metadata": {},
     "output_type": "execute_result"
    }
   ],
   "source": [
    "CLS_ALGORITHM = 'MultinomialNB'\n",
    "\n",
    "nb = Pipeline([('vectorizer', TfidfVectorizer(use_idf=True,\n",
    "                                                 smooth_idf=True,\n",
    "                                                 sublinear_tf=True)),\n",
    "                ('clf',MultinomialNB())])\n",
    "parameters_nb = {'vectorizer__ngram_range': [(1, 2), (2,2)],\n",
    "               'clf__alpha': ( 0.01, 0.001)}\n",
    "             \n",
    "gs_clf_nb = GridSearchCV(nb, parameters_nb, n_jobs=-1, scoring = \"f1_weighted\")\n",
    " \n",
    "   \n",
    "gs_clf_nb = gs_clf_nb.fit(df_train['text'].to_list(), df_train['target'].to_list())\n",
    "print('best score --- ', gs_clf_nb.best_score_)\n",
    "print('best parameters --- ', gs_clf_nb.best_params_)\n",
    "r = gs_clf_nb.best_estimator_\n",
    "predicted = r.predict(df_test['text'].to_list())\n",
    "print(classification_report(df_test['target'], predicted))\n",
    "joblib.dump(r, f'../models/{CLS_ALGORITHM}.pkl')"
   ]
  },
  {
   "cell_type": "code",
   "execution_count": 41,
   "id": "8dc3b493",
   "metadata": {},
   "outputs": [
    {
     "data": {
      "text/plain": [
       "array([[9.65842370e-01, 3.41576300e-02],\n",
       "       [7.30769131e-04, 9.99269231e-01],\n",
       "       [4.37632619e-03, 9.95623674e-01]])"
      ]
     },
     "execution_count": 41,
     "metadata": {},
     "output_type": "execute_result"
    }
   ],
   "source": [
    "CLS_ALGORITHM = 'MultinomialNB'\n",
    "best_model = joblib.load(f'../models/{CLS_ALGORITHM}.pkl')\n",
    "best_model.predict_proba(['привет как дела',\n",
    "                          'в целях обеспечения безопасности департамента',\n",
    "                         'распоряжение о запрете передачи карточных данных сторонним организациям'])"
   ]
  },
  {
   "cell_type": "code",
   "execution_count": 42,
   "id": "7d2f0965",
   "metadata": {},
   "outputs": [
    {
     "data": {
      "text/plain": [
       "array([0, 1, 1])"
      ]
     },
     "execution_count": 42,
     "metadata": {},
     "output_type": "execute_result"
    }
   ],
   "source": [
    "best_model.predict_proba(['привет как дела',\n",
    "                          'в целях обеспечения безопасности департамента',\n",
    "                         'распоряжение о запрете передачи карточных данных сторонним организациям']).argmax(axis=1)"
   ]
  },
  {
   "cell_type": "code",
   "execution_count": null,
   "id": "0df837b7",
   "metadata": {},
   "outputs": [],
   "source": []
  }
 ],
 "metadata": {
  "kernelspec": {
   "display_name": "Python 3 (ipykernel)",
   "language": "python",
   "name": "python3"
  },
  "language_info": {
   "codemirror_mode": {
    "name": "ipython",
    "version": 3
   },
   "file_extension": ".py",
   "mimetype": "text/x-python",
   "name": "python",
   "nbconvert_exporter": "python",
   "pygments_lexer": "ipython3",
   "version": "3.7.12"
  }
 },
 "nbformat": 4,
 "nbformat_minor": 5
}
